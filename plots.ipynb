{
 "cells": [
  {
   "cell_type": "code",
   "execution_count": 47,
   "metadata": {},
   "outputs": [
    {
     "data": {
      "image/png": "[encoded data removed]",
      "text/plain": [
       "<Figure size 432x288 with 2 Axes>"
      ]
     },
     "metadata": {
      "needs_background": "light"
     },
     "output_type": "display_data"
    }
   ],
   "source": [
    "import matplotlib.pyplot as plt\n",
    "\n",
    "import math\n",
    "import numpy as np\n",
    "\n",
    "from scipy.optimize import curve_fit\n",
    "\n",
    "def func(x,  a, b):\n",
    "    return  a*x+b\n",
    "\n",
    "# read data from a text file. One number per line\n",
    "arch = \"/home/tenderbook/data/sonar/solid/static/20/sonar_1_cl.data\"\n",
    "dist = []\n",
    "delta_time = []\n",
    "w_time = []\n",
    "n = []\n",
    "rdist = []\n",
    "for item in open(arch,'r'):\n",
    "    try:\n",
    "        item = item.strip('\\n')\n",
    "        item_ = item.split(',')\n",
    "        wt = item_[3]\n",
    "        dt = item_[2]\n",
    "        x_= item_[1]\n",
    "        n_ = item_[0]\n",
    "        \n",
    "    except Exception as ex:\n",
    "        print(ex)\n",
    "    else:\n",
    "        if item != '':\n",
    "            try:\n",
    "                dist.append(float(x_))\n",
    "                delta_time.append(float(dt))\n",
    "                w_time.append(float(wt))\n",
    "\n",
    "            except ValueError:\n",
    "                pass\n",
    "\n",
    "data = np.array(dist)\n",
    "# counts, bins = np.histogram(data)\n",
    "# plt.hist(bins[:-1], bins, weights=counts)\n",
    "fig, axs  = plt.subplots(2)\n",
    "\n",
    "\n",
    "n, bins, patches = axs[0].hist(data, 50, density=False, facecolor='g', alpha=0.75)\n",
    "n, bins, patches = axs[1].hist(delta_time, 50, density=False, facecolor='m', alpha=0.75)\n",
    "plt.show()\n"
   ]
  },
  {
   "cell_type": "code",
   "execution_count": 7,
   "metadata": {},
   "outputs": [
    {
     "data": {
      "image/png": "[encoded data removed]",
      "text/plain": [
       "<Figure size 432x288 with 1 Axes>"
      ]
     },
     "metadata": {
      "needs_background": "light"
     },
     "output_type": "display_data"
    }
   ],
   "source": [
    "import matplotlib.pyplot as plt\n",
    "\n",
    "import math\n",
    "import numpy as np\n",
    "\n",
    "from scipy.optimize import curve_fit\n",
    "\n",
    "def func(x,  a, b):\n",
    "    return  a*x+b\n",
    "\n",
    "# read data from a text file. One number per line\n",
    "arch = \"/home/tenderbook/data/sonar/solid/static/20/sonar_1.data\"\n",
    "dist = []\n",
    "delta_time = []\n",
    "n = []\n",
    "rdist = []\n",
    "w_time = []\n",
    "for item in open(arch,'r'):\n",
    "    try:\n",
    "        item = item.strip('\\n')\n",
    "        item_ = item.split(',')\n",
    "        wt = item_[3]\n",
    "        dt = item_[2]\n",
    "        x_= item_[1]\n",
    "        n_ = item_[0]\n",
    "        \n",
    "    except Exception as ex:\n",
    "        print(ex)\n",
    "    else:\n",
    "        if item != '':\n",
    "            try:\n",
    "                dist.append(float(x_))\n",
    "                delta_time.append(float(dt))\n",
    "                w_time.append(float(wt))\n",
    "\n",
    "            except ValueError:\n",
    "                pass\n",
    "\n",
    "data = np.array(delta_time)\n",
    "# counts, bins = np.histogram(data)\n",
    "# plt.hist(bins[:-1], bins, weights=counts)\n",
    "\n",
    "\n",
    "n, bins, patches = plt.hist(data, 50, density=True, facecolor='g', alpha=0.75)\n",
    "\n",
    "plt.show()\n"
   ]
  },
  {
   "cell_type": "code",
   "execution_count": 7,
   "metadata": {},
   "outputs": [
    {
     "data": {
      "image/png": "[encoded data removed]",
      "text/plain": [
       "<Figure size 432x288 with 1 Axes>"
      ]
     },
     "metadata": {
      "needs_background": "light"
     },
     "output_type": "display_data"
    },
    {
     "data": {
      "image/png": "[encoded data removed]",
      "text/plain": [
       "<Figure size 432x288 with 4 Axes>"
      ]
     },
     "metadata": {
      "needs_background": "light"
     },
     "output_type": "display_data"
    }
   ],
   "source": [
    "import matplotlib.pyplot as plt\n",
    "\n",
    "import math\n",
    "import numpy as np\n",
    "\n",
    "from scipy.optimize import curve_fit\n",
    "\n",
    "def func(x,  a, b):\n",
    "    return  a*x+b\n",
    "\n",
    "# read data from a text file. One number per line\n",
    "arch = \"/home/tenderbook/logs/sonar/mark201/3/\"\n",
    "\n",
    "names = [\"ttyUSB1_id_3.data\", \"ttyUSB2_id_2.data\", \"speed.data\"]\n",
    "dist_1 = []\n",
    "dist_2 = []\n",
    "dist_3 = []\n",
    "time_1 = []\n",
    "time_2 = []\n",
    "time_3 = []\n",
    "speed = []\n",
    "n = []\n",
    "rdist = []\n",
    "w_time = []\n",
    "for name in names:\n",
    "    arch_name = arch + name\n",
    "\n",
    "    for item in open(arch_name,'r'):\n",
    "        try:\n",
    "            item = item.strip('\\n')\n",
    "            item_ = item.split(',')\n",
    "            wt = item_[3]\n",
    "            dt = item_[2]\n",
    "            x_= item_[1]\n",
    "            n_ = item_[0]\n",
    "            \n",
    "        except Exception as ex:\n",
    "            print(ex)\n",
    "        else:\n",
    "            if item != '':\n",
    "                # delta_time.append(float(dt))\n",
    "                try:\n",
    "                    if int(n_) == 0:\n",
    "                        dist_1.append(float(x_))\n",
    "                        time_1.append(float(wt))\n",
    "                        speed.append(float(dt))\n",
    "                    \n",
    "                   \n",
    "                    w_time.append(float(wt))\n",
    "                    if int(n_) == 2:\n",
    "                        dist_2.append(float(x_)/1000)\n",
    "                        time_2.append(float(wt))\n",
    "                    if int(n_) == 3:\n",
    "                        time_3.append(float(wt))\n",
    "                        dist_3.append(float(x_)/1000)\n",
    "\n",
    "                except ValueError:\n",
    "                    pass\n",
    "dist = []\n",
    "dist = dist_1 + dist_2 +dist_3\n",
    "data = np.array(dist)\n",
    "# counts, bins = np.histogram(data)\n",
    "# plt.hist(bins[:-1], bins, weights=counts)\n",
    "\n",
    "n, bins, patches = plt.hist(data, 100, density=False, facecolor='g', alpha=0.75)\n",
    "\n",
    "fig, axs = plt.subplots(4, sharex = True, sharey = True)\n",
    "# ax.grid(True)\n",
    "# i=[i_ for i_ in range(len(dist_1))]\n",
    "axs[0].scatter(time_1, dist_1)\n",
    "axs[1].scatter(time_2, dist_2)\n",
    "axs[2].scatter(time_3, dist_3)\n",
    "axs[3].scatter(time_1, speed)\n",
    "\n",
    "plt.show()\n"
   ]
  },
  {
   "cell_type": "code",
   "execution_count": 37,
   "metadata": {},
   "outputs": [
    {
     "data": {
      "image/png": "[encoded data removed]",
      "text/plain": [
       "<Figure size 432x288 with 1 Axes>"
      ]
     },
     "metadata": {
      "needs_background": "light"
     },
     "output_type": "display_data"
    }
   ],
   "source": [
    "import matplotlib.pyplot as plt\n",
    "\n",
    "import math\n",
    "import numpy as np\n",
    "\n",
    "from scipy.optimize import curve_fit\n",
    "\n",
    "def func(x,  a, b):\n",
    "    return  a*x+b\n",
    "\n",
    "# read data from a text file. One number per line\n",
    "arch = \"/home/tenderbook/data/sonar/solid/move5_60/sonar_1_cl.data\"\n",
    "dist = []\n",
    "delta_time = []\n",
    "n = []\n",
    "rdist = []\n",
    "w_time = []\n",
    "\n",
    "for item in open(arch,'r'):\n",
    "    try:\n",
    "        item = item.strip('\\n')\n",
    "        item_ = item.split(',')\n",
    "        wt = item_[3]\n",
    "        dt = item_[2]\n",
    "        x_= item_[1]\n",
    "        n_ = item_[0]\n",
    "        \n",
    "    except Exception as ex:\n",
    "        print(ex)\n",
    "    else:\n",
    "        if item != '':\n",
    "            try:\n",
    "                dist.append(float(x_))\n",
    "                delta_time.append(float(dt))\n",
    "                n.append(float(n_))\n",
    "                w_time.append(float(wt))\n",
    "\n",
    "            except ValueError:\n",
    "                pass\n",
    "\n",
    "data = np.array(dist)\n",
    "# counts, bins = np.histogram(data)\n",
    "# plt.hist(bins[:-1], bins, weights=counts)\n",
    "\n",
    "\n",
    "fig, ax = plt.subplots()\n",
    "ax.grid(True)\n",
    "i=[i_ for i_ in range(len(dist))]\n",
    "ax.scatter(w_time, dist)\n",
    "\n",
    "plt.show()"
   ]
  }
 ],
 "metadata": {
  "interpreter": {
   "hash": "916dbcbb3f70747c44a77c7bcd40155683ae19c65e1c03b4aa3499c5328201f1"
  },
  "kernelspec": {
   "display_name": "Python 3.8.10 64-bit",
   "name": "python3"
  },
  "language_info": {
   "codemirror_mode": {
    "name": "ipython",
    "version": 3
   },
   "file_extension": ".py",
   "mimetype": "text/x-python",
   "name": "python",
   "nbconvert_exporter": "python",
   "pygments_lexer": "ipython3",
   "version": "3.8.10"
  },
  "orig_nbformat": 4
 },
 "nbformat": 4,
 "nbformat_minor": 2
}
